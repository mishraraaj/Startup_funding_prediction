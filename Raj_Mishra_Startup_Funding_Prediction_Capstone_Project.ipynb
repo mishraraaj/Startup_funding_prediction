{
  "nbformat": 4,
  "nbformat_minor": 0,
  "metadata": {
    "kernelspec": {
      "display_name": "Python 3",
      "language": "python",
      "name": "python3"
    },
    "language_info": {
      "codemirror_mode": {
        "name": "ipython",
        "version": 3
      },
      "file_extension": ".py",
      "mimetype": "text/x-python",
      "name": "python",
      "nbconvert_exporter": "python",
      "pygments_lexer": "ipython3",
      "version": "3.6.6"
    },
    "colab": {
      "name": "Raj Mishra -Startup Funding Prediction - Capstone Project.ipynb",
      "provenance": [],
      "collapsed_sections": [],
      "include_colab_link": true
    }
  },
  "cells": [
    {
      "cell_type": "markdown",
      "metadata": {
        "id": "view-in-github",
        "colab_type": "text"
      },
      "source": [
        "<a href=\"https://colab.research.google.com/github/mishraraaj/Startup_funding_prediction/blob/main/Raj_Mishra_Startup_Funding_Prediction_Capstone_Project.ipynb\" target=\"_parent\"><img src=\"https://colab.research.google.com/assets/colab-badge.svg\" alt=\"Open In Colab\"/></a>"
      ]
    },
    {
      "cell_type": "markdown",
      "metadata": {
        "id": "tOGC-qoyhJeX"
      },
      "source": [
        "# <b><u> Project Title : Predict whether a startup will get funded in the next three months. </u></b>"
      ]
    },
    {
      "cell_type": "markdown",
      "metadata": {
        "id": "Y06xIdG26kRF"
      },
      "source": [
        "## <b> Problem Description </b>\n",
        "\n",
        "### There has been a staggering growth in investments in young age startups in the last 5 years. A lot of big VC firms are increasingly getting interested in the startup funding space. You are given a task to predict whether a startup will get a funding in the next three months using app traction data and startup details. \n",
        "\n",
        "### This funding can be either seed funding, Series A, Series B, so on and so forth. \n"
      ]
    },
    {
      "cell_type": "markdown",
      "metadata": {
        "id": "AlLxAtlziMbP"
      },
      "source": [
        "## <b> Data Description </b>\r\n",
        "\r\n",
        "### In the file, you have monthly data for the startup entities which contains information about various app traction performance.\r\n",
        "\r\n",
        "### <b> In the given data, you have the following variables:\r\n",
        "* ### UUID - Unique Identifier for a single startup entity\r\n",
        "* ### Month - Month for which the app data is available\r\n",
        "* ### Application category - The category to which an application belongs to\r\n",
        "* ### Avg Session Time - Average time of the session in app during the month\r\n",
        "* ### Total Session Time - Avg session time / user x Open rate = Total session time\r\n",
        "* ### Open_rate - No of times app has been opened by a user\r\n",
        "* ### Reach - % of devices having the app installed\r\n",
        "* ### Funding_ind - Indicator for a funded startup\r\n",
        "\r\n",
        "## <b>Following variables are only available for funded startups:</b>\r\n",
        "* ### Business models -  The business model of the startup                            \r\n",
        "* ### City - the city where the startup is based out of\r\n",
        "* ### Company Stage - the stage of the company\r\n",
        "* ### Feed name - \r\n",
        "* ### Founded year - The year in which the startup was founded\r\n",
        "* ### Latest funded date - The latest date in which the startup was funded\r\n",
        "* ### MAU - % of reach which opened the app in the given month( Monthly Active Users)\r\n",
        "* ### Overview - Overview of the startup\r\n",
        "* ### Practice Areas - \r\n",
        "* ### Region - Region where the startup operates\r\n",
        "* ### Total Funding - Total amount of funding till the month\r\n",
        "* ### Uninstall Rate - Rate of uninstall of applications.\r\n",
        "\r\n"
      ]
    },
    {
      "cell_type": "code",
      "metadata": {
        "colab": {
          "base_uri": "https://localhost:8080/"
        },
        "id": "NBkhJhdqCULn",
        "outputId": "4a31450d-94a1-4264-ddbb-112c7e4365cd"
      },
      "source": [
        "from google.colab import drive\n",
        "drive.mount('/content/drive')"
      ],
      "execution_count": 1,
      "outputs": [
        {
          "output_type": "stream",
          "text": [
            "Mounted at /content/drive\n"
          ],
          "name": "stdout"
        }
      ]
    },
    {
      "cell_type": "code",
      "metadata": {
        "id": "mH8Lrf_N0ILc"
      },
      "source": [
        "import pandas as pd\r\n",
        "df=pd.read_csv('/content/drive/MyDrive/AlmaBetter/Cohort Aravali/Module 4/Week 4/data_driven_investment_1.csv')"
      ],
      "execution_count": 2,
      "outputs": []
    },
    {
      "cell_type": "code",
      "metadata": {
        "colab": {
          "base_uri": "https://localhost:8080/",
          "height": 305
        },
        "id": "jbKWJ_D3Cuom",
        "outputId": "c434caee-2c42-4c2c-d176-b5fe442791da"
      },
      "source": [
        "df.head()"
      ],
      "execution_count": 3,
      "outputs": [
        {
          "output_type": "execute_result",
          "data": {
            "text/html": [
              "<div>\n",
              "<style scoped>\n",
              "    .dataframe tbody tr th:only-of-type {\n",
              "        vertical-align: middle;\n",
              "    }\n",
              "\n",
              "    .dataframe tbody tr th {\n",
              "        vertical-align: top;\n",
              "    }\n",
              "\n",
              "    .dataframe thead th {\n",
              "        text-align: right;\n",
              "    }\n",
              "</style>\n",
              "<table border=\"1\" class=\"dataframe\">\n",
              "  <thead>\n",
              "    <tr style=\"text-align: right;\">\n",
              "      <th></th>\n",
              "      <th>UUID</th>\n",
              "      <th>month</th>\n",
              "      <th>Application Category</th>\n",
              "      <th>Avg_Session_Time</th>\n",
              "      <th>Business Models</th>\n",
              "      <th>City</th>\n",
              "      <th>Company Stage</th>\n",
              "      <th>Feed Name</th>\n",
              "      <th>Founded Year</th>\n",
              "      <th>Latest Funded Date</th>\n",
              "      <th>MAU</th>\n",
              "      <th>Open_Rate</th>\n",
              "      <th>Overview</th>\n",
              "      <th>Practice Areas</th>\n",
              "      <th>Reach</th>\n",
              "      <th>Region</th>\n",
              "      <th>Total Funding (USD)</th>\n",
              "      <th>Total_Session_Time</th>\n",
              "      <th>Uninstall_Rate</th>\n",
              "      <th>funding_ind</th>\n",
              "    </tr>\n",
              "  </thead>\n",
              "  <tbody>\n",
              "    <tr>\n",
              "      <th>0</th>\n",
              "      <td>c1ad38e2d357610c129657d870ede902e8abfcb9</td>\n",
              "      <td>20180801</td>\n",
              "      <td>Books &amp; Reference</td>\n",
              "      <td>NaN</td>\n",
              "      <td>NaN</td>\n",
              "      <td>NaN</td>\n",
              "      <td>NaN</td>\n",
              "      <td>NaN</td>\n",
              "      <td>NaN</td>\n",
              "      <td>NaN</td>\n",
              "      <td>NaN</td>\n",
              "      <td>NaN</td>\n",
              "      <td>NaN</td>\n",
              "      <td>NaN</td>\n",
              "      <td>0.042963</td>\n",
              "      <td>National</td>\n",
              "      <td>NaN</td>\n",
              "      <td>NaN</td>\n",
              "      <td>0.024443</td>\n",
              "      <td>0</td>\n",
              "    </tr>\n",
              "    <tr>\n",
              "      <th>1</th>\n",
              "      <td>d841e670d9191f896a0cbc75961920887b375756</td>\n",
              "      <td>20180801</td>\n",
              "      <td>Books &amp; Reference</td>\n",
              "      <td>NaN</td>\n",
              "      <td>NaN</td>\n",
              "      <td>NaN</td>\n",
              "      <td>NaN</td>\n",
              "      <td>NaN</td>\n",
              "      <td>NaN</td>\n",
              "      <td>NaN</td>\n",
              "      <td>NaN</td>\n",
              "      <td>NaN</td>\n",
              "      <td>NaN</td>\n",
              "      <td>NaN</td>\n",
              "      <td>0.003244</td>\n",
              "      <td>National</td>\n",
              "      <td>NaN</td>\n",
              "      <td>NaN</td>\n",
              "      <td>0.009828</td>\n",
              "      <td>0</td>\n",
              "    </tr>\n",
              "    <tr>\n",
              "      <th>2</th>\n",
              "      <td>0a59d138b3eaccd22b665eae70c756fef83ddb63</td>\n",
              "      <td>20180801</td>\n",
              "      <td>Finance</td>\n",
              "      <td>NaN</td>\n",
              "      <td>NaN</td>\n",
              "      <td>NaN</td>\n",
              "      <td>NaN</td>\n",
              "      <td>NaN</td>\n",
              "      <td>NaN</td>\n",
              "      <td>NaN</td>\n",
              "      <td>NaN</td>\n",
              "      <td>NaN</td>\n",
              "      <td>NaN</td>\n",
              "      <td>NaN</td>\n",
              "      <td>0.000161</td>\n",
              "      <td>National</td>\n",
              "      <td>NaN</td>\n",
              "      <td>NaN</td>\n",
              "      <td>0.235294</td>\n",
              "      <td>0</td>\n",
              "    </tr>\n",
              "    <tr>\n",
              "      <th>3</th>\n",
              "      <td>0a59d138b3eaccd22b665eae70c756fef83ddb63</td>\n",
              "      <td>20180801</td>\n",
              "      <td>Books &amp; Reference</td>\n",
              "      <td>NaN</td>\n",
              "      <td>NaN</td>\n",
              "      <td>NaN</td>\n",
              "      <td>NaN</td>\n",
              "      <td>NaN</td>\n",
              "      <td>NaN</td>\n",
              "      <td>NaN</td>\n",
              "      <td>NaN</td>\n",
              "      <td>NaN</td>\n",
              "      <td>NaN</td>\n",
              "      <td>NaN</td>\n",
              "      <td>0.000077</td>\n",
              "      <td>National</td>\n",
              "      <td>NaN</td>\n",
              "      <td>NaN</td>\n",
              "      <td>0.350000</td>\n",
              "      <td>0</td>\n",
              "    </tr>\n",
              "    <tr>\n",
              "      <th>4</th>\n",
              "      <td>df5fb9891f77df24a91d039f1817c6c4e79244ef</td>\n",
              "      <td>20180801</td>\n",
              "      <td>Productivity</td>\n",
              "      <td>NaN</td>\n",
              "      <td>NaN</td>\n",
              "      <td>NaN</td>\n",
              "      <td>NaN</td>\n",
              "      <td>NaN</td>\n",
              "      <td>NaN</td>\n",
              "      <td>NaN</td>\n",
              "      <td>NaN</td>\n",
              "      <td>NaN</td>\n",
              "      <td>NaN</td>\n",
              "      <td>NaN</td>\n",
              "      <td>0.000939</td>\n",
              "      <td>National</td>\n",
              "      <td>NaN</td>\n",
              "      <td>NaN</td>\n",
              "      <td>0.312500</td>\n",
              "      <td>0</td>\n",
              "    </tr>\n",
              "  </tbody>\n",
              "</table>\n",
              "</div>"
            ],
            "text/plain": [
              "                                       UUID  ...  funding_ind\n",
              "0  c1ad38e2d357610c129657d870ede902e8abfcb9  ...            0\n",
              "1  d841e670d9191f896a0cbc75961920887b375756  ...            0\n",
              "2  0a59d138b3eaccd22b665eae70c756fef83ddb63  ...            0\n",
              "3  0a59d138b3eaccd22b665eae70c756fef83ddb63  ...            0\n",
              "4  df5fb9891f77df24a91d039f1817c6c4e79244ef  ...            0\n",
              "\n",
              "[5 rows x 20 columns]"
            ]
          },
          "metadata": {
            "tags": []
          },
          "execution_count": 3
        }
      ]
    },
    {
      "cell_type": "code",
      "metadata": {
        "colab": {
          "base_uri": "https://localhost:8080/"
        },
        "id": "MZzLJb6-Cy-z",
        "outputId": "3900c99e-a46e-4e93-8c70-184f11687184"
      },
      "source": [
        "df.info()"
      ],
      "execution_count": 4,
      "outputs": [
        {
          "output_type": "stream",
          "text": [
            "<class 'pandas.core.frame.DataFrame'>\n",
            "RangeIndex: 1502175 entries, 0 to 1502174\n",
            "Data columns (total 20 columns):\n",
            " #   Column                Non-Null Count    Dtype  \n",
            "---  ------                --------------    -----  \n",
            " 0   UUID                  1500693 non-null  object \n",
            " 1   month                 1502175 non-null  int64  \n",
            " 2   Application Category  1502175 non-null  object \n",
            " 3   Avg_Session_Time      877732 non-null   float64\n",
            " 4   Business Models       2414 non-null     object \n",
            " 5   City                  2407 non-null     object \n",
            " 6   Company Stage         2414 non-null     object \n",
            " 7   Feed Name             2414 non-null     object \n",
            " 8   Founded Year          2414 non-null     float64\n",
            " 9   Latest Funded Date    2414 non-null     object \n",
            " 10  MAU                   118087 non-null   float64\n",
            " 11  Open_Rate             877715 non-null   float64\n",
            " 12  Overview              2414 non-null     object \n",
            " 13  Practice Areas        2414 non-null     object \n",
            " 14  Reach                 1050875 non-null  float64\n",
            " 15  Region                1502175 non-null  object \n",
            " 16  Total Funding (USD)   2255 non-null     float64\n",
            " 17  Total_Session_Time    877665 non-null   float64\n",
            " 18  Uninstall_Rate        352269 non-null   float64\n",
            " 19  funding_ind           1502175 non-null  int64  \n",
            "dtypes: float64(8), int64(2), object(10)\n",
            "memory usage: 229.2+ MB\n"
          ],
          "name": "stdout"
        }
      ]
    },
    {
      "cell_type": "code",
      "metadata": {
        "colab": {
          "base_uri": "https://localhost:8080/",
          "height": 343
        },
        "id": "dGBe1B3JGdTu",
        "outputId": "1452f875-2d83-410b-e2f0-fd3e3b5bb6fd"
      },
      "source": [
        "df.describe()"
      ],
      "execution_count": 5,
      "outputs": [
        {
          "output_type": "execute_result",
          "data": {
            "text/html": [
              "<div>\n",
              "<style scoped>\n",
              "    .dataframe tbody tr th:only-of-type {\n",
              "        vertical-align: middle;\n",
              "    }\n",
              "\n",
              "    .dataframe tbody tr th {\n",
              "        vertical-align: top;\n",
              "    }\n",
              "\n",
              "    .dataframe thead th {\n",
              "        text-align: right;\n",
              "    }\n",
              "</style>\n",
              "<table border=\"1\" class=\"dataframe\">\n",
              "  <thead>\n",
              "    <tr style=\"text-align: right;\">\n",
              "      <th></th>\n",
              "      <th>month</th>\n",
              "      <th>Avg_Session_Time</th>\n",
              "      <th>Founded Year</th>\n",
              "      <th>MAU</th>\n",
              "      <th>Open_Rate</th>\n",
              "      <th>Reach</th>\n",
              "      <th>Total Funding (USD)</th>\n",
              "      <th>Total_Session_Time</th>\n",
              "      <th>Uninstall_Rate</th>\n",
              "      <th>funding_ind</th>\n",
              "    </tr>\n",
              "  </thead>\n",
              "  <tbody>\n",
              "    <tr>\n",
              "      <th>count</th>\n",
              "      <td>1.502175e+06</td>\n",
              "      <td>877732.000000</td>\n",
              "      <td>2414.000000</td>\n",
              "      <td>118087.000000</td>\n",
              "      <td>877715.000000</td>\n",
              "      <td>1.050875e+06</td>\n",
              "      <td>2.255000e+03</td>\n",
              "      <td>877665.000000</td>\n",
              "      <td>352269.000000</td>\n",
              "      <td>1.502175e+06</td>\n",
              "    </tr>\n",
              "    <tr>\n",
              "      <th>mean</th>\n",
              "      <td>2.019719e+07</td>\n",
              "      <td>1.623425</td>\n",
              "      <td>2014.761806</td>\n",
              "      <td>0.398434</td>\n",
              "      <td>3.940650</td>\n",
              "      <td>1.067470e-03</td>\n",
              "      <td>7.730093e+07</td>\n",
              "      <td>5.963737</td>\n",
              "      <td>0.144645</td>\n",
              "      <td>1.607003e-03</td>\n",
              "    </tr>\n",
              "    <tr>\n",
              "      <th>std</th>\n",
              "      <td>5.532865e+03</td>\n",
              "      <td>2.253530</td>\n",
              "      <td>3.970991</td>\n",
              "      <td>0.208612</td>\n",
              "      <td>4.537119</td>\n",
              "      <td>1.690396e-02</td>\n",
              "      <td>3.259730e+08</td>\n",
              "      <td>9.593691</td>\n",
              "      <td>0.130948</td>\n",
              "      <td>4.005523e-02</td>\n",
              "    </tr>\n",
              "    <tr>\n",
              "      <th>min</th>\n",
              "      <td>2.018070e+07</td>\n",
              "      <td>0.000033</td>\n",
              "      <td>1983.000000</td>\n",
              "      <td>0.000019</td>\n",
              "      <td>1.000000</td>\n",
              "      <td>0.000000e+00</td>\n",
              "      <td>6.200000e+01</td>\n",
              "      <td>0.000033</td>\n",
              "      <td>0.000000</td>\n",
              "      <td>0.000000e+00</td>\n",
              "    </tr>\n",
              "    <tr>\n",
              "      <th>25%</th>\n",
              "      <td>2.019120e+07</td>\n",
              "      <td>0.417683</td>\n",
              "      <td>2014.000000</td>\n",
              "      <td>0.235294</td>\n",
              "      <td>1.875000</td>\n",
              "      <td>3.022203e-07</td>\n",
              "      <td>2.014807e+06</td>\n",
              "      <td>1.085473</td>\n",
              "      <td>0.056641</td>\n",
              "      <td>0.000000e+00</td>\n",
              "    </tr>\n",
              "    <tr>\n",
              "      <th>50%</th>\n",
              "      <td>2.020030e+07</td>\n",
              "      <td>0.889808</td>\n",
              "      <td>2016.000000</td>\n",
              "      <td>0.388769</td>\n",
              "      <td>2.933333</td>\n",
              "      <td>5.137744e-06</td>\n",
              "      <td>8.151818e+06</td>\n",
              "      <td>2.726575</td>\n",
              "      <td>0.107383</td>\n",
              "      <td>0.000000e+00</td>\n",
              "    </tr>\n",
              "    <tr>\n",
              "      <th>75%</th>\n",
              "      <td>2.020040e+07</td>\n",
              "      <td>1.917317</td>\n",
              "      <td>2017.000000</td>\n",
              "      <td>0.546218</td>\n",
              "      <td>4.500000</td>\n",
              "      <td>7.543001e-05</td>\n",
              "      <td>3.700000e+07</td>\n",
              "      <td>6.613983</td>\n",
              "      <td>0.190829</td>\n",
              "      <td>0.000000e+00</td>\n",
              "    </tr>\n",
              "    <tr>\n",
              "      <th>max</th>\n",
              "      <td>2.020060e+07</td>\n",
              "      <td>58.561333</td>\n",
              "      <td>2020.000000</td>\n",
              "      <td>1.000000</td>\n",
              "      <td>80.000000</td>\n",
              "      <td>9.990408e-01</td>\n",
              "      <td>7.201430e+09</td>\n",
              "      <td>149.983317</td>\n",
              "      <td>1.000000</td>\n",
              "      <td>1.000000e+00</td>\n",
              "    </tr>\n",
              "  </tbody>\n",
              "</table>\n",
              "</div>"
            ],
            "text/plain": [
              "              month  Avg_Session_Time  ...  Uninstall_Rate   funding_ind\n",
              "count  1.502175e+06     877732.000000  ...   352269.000000  1.502175e+06\n",
              "mean   2.019719e+07          1.623425  ...        0.144645  1.607003e-03\n",
              "std    5.532865e+03          2.253530  ...        0.130948  4.005523e-02\n",
              "min    2.018070e+07          0.000033  ...        0.000000  0.000000e+00\n",
              "25%    2.019120e+07          0.417683  ...        0.056641  0.000000e+00\n",
              "50%    2.020030e+07          0.889808  ...        0.107383  0.000000e+00\n",
              "75%    2.020040e+07          1.917317  ...        0.190829  0.000000e+00\n",
              "max    2.020060e+07         58.561333  ...        1.000000  1.000000e+00\n",
              "\n",
              "[8 rows x 10 columns]"
            ]
          },
          "metadata": {
            "tags": []
          },
          "execution_count": 5
        }
      ]
    },
    {
      "cell_type": "code",
      "metadata": {
        "colab": {
          "base_uri": "https://localhost:8080/",
          "height": 420
        },
        "id": "VvUlAHYAGe9l",
        "outputId": "e8c68ef5-737f-4357-ec10-24095dc02663"
      },
      "source": [
        "import matplotlib.pyplot as plt\r\n",
        "import seaborn as sns\r\n",
        "print(df['funding_ind'].value_counts())\r\n",
        "sns.countplot(df['funding_ind'])"
      ],
      "execution_count": 6,
      "outputs": [
        {
          "output_type": "stream",
          "text": [
            "0    1499761\n",
            "1       2414\n",
            "Name: funding_ind, dtype: int64\n"
          ],
          "name": "stdout"
        },
        {
          "output_type": "stream",
          "text": [
            "/usr/local/lib/python3.6/dist-packages/seaborn/_decorators.py:43: FutureWarning: Pass the following variable as a keyword arg: x. From version 0.12, the only valid positional argument will be `data`, and passing other arguments without an explicit keyword will result in an error or misinterpretation.\n",
            "  FutureWarning\n"
          ],
          "name": "stderr"
        },
        {
          "output_type": "execute_result",
          "data": {
            "text/plain": [
              "<matplotlib.axes._subplots.AxesSubplot at 0x7fafc3b551d0>"
            ]
          },
          "metadata": {
            "tags": []
          },
          "execution_count": 6
        },
        {
          "output_type": "display_data",
          "data": {
            "image/png": "[encoded data removed]",
            "text/plain": [
              "<Figure size 432x288 with 1 Axes>"
            ]
          },
          "metadata": {
            "tags": [],
            "needs_background": "light"
          }
        }
      ]
    },
    {
      "cell_type": "code",
      "metadata": {
        "colab": {
          "base_uri": "https://localhost:8080/",
          "height": 452
        },
        "id": "82gQIudOnTRP",
        "outputId": "ffde0ca3-d432-40ab-87d9-ac9ba51092fb"
      },
      "source": [
        "plt.figure(figsize=(15, 5))\r\n",
        "sns.heatmap(df.isnull(), cbar=True, yticklabels=False)\r\n",
        "plt.xlabel(\"Column_Name\", size=14, weight=\"bold\")\r\n",
        "plt.title(\"Places of missing values in column\",fontweight=\"bold\",size=17)\r\n",
        "plt.show()"
      ],
      "execution_count": 20,
      "outputs": [
        {
          "output_type": "display_data",
          "data": {
            "image/png": "[encoded data removed]",
            "text/plain": [
              "<Figure size 1080x360 with 2 Axes>"
            ]
          },
          "metadata": {
            "tags": [],
            "needs_background": "light"
          }
        }
      ]
    },
    {
      "cell_type": "code",
      "metadata": {
        "colab": {
          "base_uri": "https://localhost:8080/"
        },
        "id": "8kFIxtzyG_7B",
        "outputId": "38f6df32-19c6-496b-b771-968cf91afba2"
      },
      "source": [
        "df.columns"
      ],
      "execution_count": 7,
      "outputs": [
        {
          "output_type": "execute_result",
          "data": {
            "text/plain": [
              "Index(['UUID', 'month', 'Application Category', 'Avg_Session_Time',\n",
              "       'Business Models', 'City', 'Company Stage', 'Feed Name', 'Founded Year',\n",
              "       'Latest Funded Date', 'MAU', 'Open_Rate', 'Overview', 'Practice Areas',\n",
              "       'Reach', 'Region', 'Total Funding (USD)', 'Total_Session_Time',\n",
              "       'Uninstall_Rate', 'funding_ind'],\n",
              "      dtype='object')"
            ]
          },
          "metadata": {
            "tags": []
          },
          "execution_count": 7
        }
      ]
    },
    {
      "cell_type": "code",
      "metadata": {
        "id": "bKKJjkswM1-e",
        "colab": {
          "base_uri": "https://localhost:8080/"
        },
        "outputId": "14d6f54f-1d38-4bc9-eefd-83672a871ce0"
      },
      "source": [
        "df['month'].value_counts()"
      ],
      "execution_count": 8,
      "outputs": [
        {
          "output_type": "execute_result",
          "data": {
            "text/plain": [
              "20200301    291864\n",
              "20200401    269271\n",
              "20200601    163918\n",
              "20200501    153682\n",
              "20200201    104186\n",
              "20200101    102074\n",
              "20191201     96524\n",
              "20191101     82189\n",
              "20191001     16080\n",
              "20190901     16080\n",
              "20190801     16080\n",
              "20190701     16080\n",
              "20190601     15954\n",
              "20190501     15803\n",
              "20190401     15556\n",
              "20190301     15266\n",
              "20190201     14970\n",
              "20190101     14719\n",
              "20181201     14402\n",
              "20181101     14142\n",
              "20181001     13810\n",
              "20180901     13539\n",
              "20180801     13226\n",
              "20180701     12760\n",
              "Name: month, dtype: int64"
            ]
          },
          "metadata": {
            "tags": []
          },
          "execution_count": 8
        }
      ]
    },
    {
      "cell_type": "code",
      "metadata": {
        "colab": {
          "base_uri": "https://localhost:8080/"
        },
        "id": "x5JdRICdOZrc",
        "outputId": "1dccc682-677a-4b1a-9d84-16621a2e658a"
      },
      "source": [
        "df['month'].max()"
      ],
      "execution_count": 9,
      "outputs": [
        {
          "output_type": "execute_result",
          "data": {
            "text/plain": [
              "20200601"
            ]
          },
          "metadata": {
            "tags": []
          },
          "execution_count": 9
        }
      ]
    },
    {
      "cell_type": "code",
      "metadata": {
        "colab": {
          "base_uri": "https://localhost:8080/"
        },
        "id": "2dBbjOUJO3c0",
        "outputId": "59b3711d-16b8-4d8d-e43c-c68eb1f15a04"
      },
      "source": [
        "df['month'].min()"
      ],
      "execution_count": 10,
      "outputs": [
        {
          "output_type": "execute_result",
          "data": {
            "text/plain": [
              "20180701"
            ]
          },
          "metadata": {
            "tags": []
          },
          "execution_count": 10
        }
      ]
    },
    {
      "cell_type": "code",
      "metadata": {
        "colab": {
          "base_uri": "https://localhost:8080/"
        },
        "id": "DCmMD9P-O503",
        "outputId": "f93ff7a7-1b54-4538-d12e-b1ea68e9208c"
      },
      "source": [
        "df[\"UUID\"].value_counts().shape"
      ],
      "execution_count": 11,
      "outputs": [
        {
          "output_type": "execute_result",
          "data": {
            "text/plain": [
              "(147741,)"
            ]
          },
          "metadata": {
            "tags": []
          },
          "execution_count": 11
        }
      ]
    },
    {
      "cell_type": "code",
      "metadata": {
        "colab": {
          "base_uri": "https://localhost:8080/"
        },
        "id": "foK6M5OBPeoC",
        "outputId": "ecb131e5-2b02-484a-f0d8-5911954d7674"
      },
      "source": [
        "df[\"Application Category\"].value_counts()"
      ],
      "execution_count": 12,
      "outputs": [
        {
          "output_type": "execute_result",
          "data": {
            "text/plain": [
              "Education                  202514\n",
              "Tools                      139262\n",
              "Business                    87780\n",
              "Books & Reference           85189\n",
              "Entertainment               76582\n",
              "Productivity                63135\n",
              "Personalization             62694\n",
              "Finance                     60828\n",
              "Photography                 56762\n",
              "Music & Audio               55885\n",
              "Lifestyle                   53462\n",
              "Social                      38896\n",
              "Communication               37143\n",
              "Travel & Local              37100\n",
              "Health & Fitness            36996\n",
              "Shopping                    31776\n",
              "Simulation                  29967\n",
              "News & Magazines            27598\n",
              "Casual                      25771\n",
              "Action                      24972\n",
              "Video Players & Editors     24309\n",
              "Puzzle                      24304\n",
              "Sports                      20217\n",
              "Arcade                      18639\n",
              "Medical                     17691\n",
              "Educational                 14675\n",
              "Food & Drink                14230\n",
              "Maps & Navigation           14028\n",
              "Racing                      13608\n",
              "Adventure                   12716\n",
              "Art & Design                10902\n",
              "Auto & Vehicles             10340\n",
              "Role Playing                 9406\n",
              "Board                        8547\n",
              "Card                         7292\n",
              "Strategy                     6040\n",
              "House & Home                 5731\n",
              "Weather                      5668\n",
              "Word                         4676\n",
              "Events                       3534\n",
              "Dating                       3388\n",
              "Trivia                       3352\n",
              "Beauty                       3286\n",
              "Comics                       2687\n",
              "Casino                       2242\n",
              "Music                        2215\n",
              "Parenting                    2185\n",
              "Libraries & Demo             1955\n",
              "Name: Application Category, dtype: int64"
            ]
          },
          "metadata": {
            "tags": []
          },
          "execution_count": 12
        }
      ]
    },
    {
      "cell_type": "code",
      "metadata": {
        "colab": {
          "base_uri": "https://localhost:8080/",
          "height": 681
        },
        "id": "EwZw02A8PzG1",
        "outputId": "a87423c4-dd39-4a76-d81b-5f7892dfe805"
      },
      "source": [
        "plt.figure(figsize=(15,10))\r\n",
        "sns.countplot(df[\"Application Category\"])"
      ],
      "execution_count": 13,
      "outputs": [
        {
          "output_type": "stream",
          "text": [
            "/usr/local/lib/python3.6/dist-packages/seaborn/_decorators.py:43: FutureWarning: Pass the following variable as a keyword arg: x. From version 0.12, the only valid positional argument will be `data`, and passing other arguments without an explicit keyword will result in an error or misinterpretation.\n",
            "  FutureWarning\n"
          ],
          "name": "stderr"
        },
        {
          "output_type": "execute_result",
          "data": {
            "text/plain": [
              "<matplotlib.axes._subplots.AxesSubplot at 0x7fafd2463cc0>"
            ]
          },
          "metadata": {
            "tags": []
          },
          "execution_count": 13
        },
        {
          "output_type": "display_data",
          "data": {
            "image/png": "[encoded data removed]",
            "text/plain": [
              "<Figure size 1080x720 with 1 Axes>"
            ]
          },
          "metadata": {
            "tags": [],
            "needs_background": "light"
          }
        }
      ]
    },
    {
      "cell_type": "code",
      "metadata": {
        "colab": {
          "base_uri": "https://localhost:8080/",
          "height": 298
        },
        "id": "8TOxyuJsQUhj",
        "outputId": "12f594fb-6df5-48ab-9f54-3e3b8c45b3c4"
      },
      "source": [
        "sns.kdeplot(df['Avg_Session_Time'].dropna())"
      ],
      "execution_count": 14,
      "outputs": [
        {
          "output_type": "execute_result",
          "data": {
            "text/plain": [
              "<matplotlib.axes._subplots.AxesSubplot at 0x7fafc3518b70>"
            ]
          },
          "metadata": {
            "tags": []
          },
          "execution_count": 14
        },
        {
          "output_type": "display_data",
          "data": {
            "image/png": "[encoded data removed]",
            "text/plain": [
              "<Figure size 432x288 with 1 Axes>"
            ]
          },
          "metadata": {
            "tags": [],
            "needs_background": "light"
          }
        }
      ]
    },
    {
      "cell_type": "code",
      "metadata": {
        "colab": {
          "base_uri": "https://localhost:8080/",
          "height": 298
        },
        "id": "isSyZ8tJQzkJ",
        "outputId": "fb842b52-ebf4-4876-9d72-ca34ca0e5853"
      },
      "source": [
        "sns.kdeplot(df['Total_Session_Time'])"
      ],
      "execution_count": 15,
      "outputs": [
        {
          "output_type": "execute_result",
          "data": {
            "text/plain": [
              "<matplotlib.axes._subplots.AxesSubplot at 0x7fafc34bd400>"
            ]
          },
          "metadata": {
            "tags": []
          },
          "execution_count": 15
        },
        {
          "output_type": "display_data",
          "data": {
            "image/png": "[encoded data removed]",
            "text/plain": [
              "<Figure size 432x288 with 1 Axes>"
            ]
          },
          "metadata": {
            "tags": [],
            "needs_background": "light"
          }
        }
      ]
    },
    {
      "cell_type": "code",
      "metadata": {
        "id": "w68rR2-_R1Ow"
      },
      "source": [
        "a=list(set(df[df['funding_ind']==0]['UUID'])|set(df[df['funding_ind']==1]['UUID']))"
      ],
      "execution_count": 16,
      "outputs": []
    },
    {
      "cell_type": "code",
      "metadata": {
        "id": "ypp9Lfs-S1Qk"
      },
      "source": [
        "Funded_df=df[df['funding_ind']==1]"
      ],
      "execution_count": 17,
      "outputs": []
    },
    {
      "cell_type": "code",
      "metadata": {
        "colab": {
          "base_uri": "https://localhost:8080/",
          "height": 1000
        },
        "id": "uuVpPgHvS2QQ",
        "outputId": "1bb2935a-49a0-407f-d0ab-35bf1adf262b"
      },
      "source": [
        "Funded_df"
      ],
      "execution_count": 18,
      "outputs": [
        {
          "output_type": "execute_result",
          "data": {
            "text/html": [
              "<div>\n",
              "<style scoped>\n",
              "    .dataframe tbody tr th:only-of-type {\n",
              "        vertical-align: middle;\n",
              "    }\n",
              "\n",
              "    .dataframe tbody tr th {\n",
              "        vertical-align: top;\n",
              "    }\n",
              "\n",
              "    .dataframe thead th {\n",
              "        text-align: right;\n",
              "    }\n",
              "</style>\n",
              "<table border=\"1\" class=\"dataframe\">\n",
              "  <thead>\n",
              "    <tr style=\"text-align: right;\">\n",
              "      <th></th>\n",
              "      <th>UUID</th>\n",
              "      <th>month</th>\n",
              "      <th>Application Category</th>\n",
              "      <th>Avg_Session_Time</th>\n",
              "      <th>Business Models</th>\n",
              "      <th>City</th>\n",
              "      <th>Company Stage</th>\n",
              "      <th>Feed Name</th>\n",
              "      <th>Founded Year</th>\n",
              "      <th>Latest Funded Date</th>\n",
              "      <th>MAU</th>\n",
              "      <th>Open_Rate</th>\n",
              "      <th>Overview</th>\n",
              "      <th>Practice Areas</th>\n",
              "      <th>Reach</th>\n",
              "      <th>Region</th>\n",
              "      <th>Total Funding (USD)</th>\n",
              "      <th>Total_Session_Time</th>\n",
              "      <th>Uninstall_Rate</th>\n",
              "      <th>funding_ind</th>\n",
              "    </tr>\n",
              "  </thead>\n",
              "  <tbody>\n",
              "    <tr>\n",
              "      <th>147</th>\n",
              "      <td>0de5c3fb8362718a71754d77061259c809266dd1</td>\n",
              "      <td>20180801</td>\n",
              "      <td>Parenting</td>\n",
              "      <td>NaN</td>\n",
              "      <td>Mom &amp; Baby Care &gt; Parenting &gt; Community</td>\n",
              "      <td>Mumbai</td>\n",
              "      <td>Series A</td>\n",
              "      <td>Mom &amp; Baby Care</td>\n",
              "      <td>2017.0</td>\n",
              "      <td>2018-09-10</td>\n",
              "      <td>NaN</td>\n",
              "      <td>NaN</td>\n",
              "      <td>Online parenting platform for pregnancy and ch...</td>\n",
              "      <td>Retail</td>\n",
              "      <td>0.000192</td>\n",
              "      <td>National</td>\n",
              "      <td>4087427.0</td>\n",
              "      <td>NaN</td>\n",
              "      <td>0.250000</td>\n",
              "      <td>1</td>\n",
              "    </tr>\n",
              "    <tr>\n",
              "      <th>212</th>\n",
              "      <td>1579dd1ed49a18f4f7520a91721c6e435f7c588e</td>\n",
              "      <td>20180801</td>\n",
              "      <td>Social</td>\n",
              "      <td>NaN</td>\n",
              "      <td>Social Platforms &gt; Women</td>\n",
              "      <td>Delhi</td>\n",
              "      <td>Series A</td>\n",
              "      <td>Social Platforms</td>\n",
              "      <td>2013.0</td>\n",
              "      <td>2018-09-19</td>\n",
              "      <td>NaN</td>\n",
              "      <td>NaN</td>\n",
              "      <td>Web and mobile app based community for women</td>\n",
              "      <td>Consumer\\nMedia &amp; Entertainment</td>\n",
              "      <td>0.000703</td>\n",
              "      <td>National</td>\n",
              "      <td>4473029.0</td>\n",
              "      <td>NaN</td>\n",
              "      <td>0.274336</td>\n",
              "      <td>1</td>\n",
              "    </tr>\n",
              "    <tr>\n",
              "      <th>2324</th>\n",
              "      <td>cae68bf26bf59549fac77ec044954f939ab28c28</td>\n",
              "      <td>20180801</td>\n",
              "      <td>Finance</td>\n",
              "      <td>NaN</td>\n",
              "      <td>Investment Tech &gt; Online Trading Platforms &gt; P...</td>\n",
              "      <td>Mumbai</td>\n",
              "      <td>Seed</td>\n",
              "      <td>Investment Tech</td>\n",
              "      <td>2016.0</td>\n",
              "      <td>2018-11-19</td>\n",
              "      <td>NaN</td>\n",
              "      <td>NaN</td>\n",
              "      <td>Online platform focused on mutual fund investm...</td>\n",
              "      <td>FinTech</td>\n",
              "      <td>0.000155</td>\n",
              "      <td>National</td>\n",
              "      <td>1220353.0</td>\n",
              "      <td>NaN</td>\n",
              "      <td>0.333333</td>\n",
              "      <td>1</td>\n",
              "    </tr>\n",
              "    <tr>\n",
              "      <th>2624</th>\n",
              "      <td>9d17e60de4c6bb504d258872b6cc0bffd09de171</td>\n",
              "      <td>20180801</td>\n",
              "      <td>Travel &amp; Local</td>\n",
              "      <td>NaN</td>\n",
              "      <td>Online Travel &gt; Transportation &gt; Train &gt; Onlin...</td>\n",
              "      <td>Bangalore</td>\n",
              "      <td>Seed</td>\n",
              "      <td>Online Travel</td>\n",
              "      <td>2014.0</td>\n",
              "      <td>2018-11-01</td>\n",
              "      <td>NaN</td>\n",
              "      <td>NaN</td>\n",
              "      <td>Online platform to book train tickets in India</td>\n",
              "      <td>Consumer\\nTravel and Hospitality Tech</td>\n",
              "      <td>0.995227</td>\n",
              "      <td>National</td>\n",
              "      <td>1156045.0</td>\n",
              "      <td>NaN</td>\n",
              "      <td>NaN</td>\n",
              "      <td>1</td>\n",
              "    </tr>\n",
              "    <tr>\n",
              "      <th>3374</th>\n",
              "      <td>7c3e0d6bec30478fb1e04249ac2e13016cf9c8db</td>\n",
              "      <td>20180801</td>\n",
              "      <td>Business</td>\n",
              "      <td>NaN</td>\n",
              "      <td>HRTech &gt; HRMS &gt; Suite &gt; Enterprise\\nCross Bord...</td>\n",
              "      <td>Gurgaon</td>\n",
              "      <td>Seed</td>\n",
              "      <td>HRTech\\nCross Border - India</td>\n",
              "      <td>1995.0</td>\n",
              "      <td>2018-10-01</td>\n",
              "      <td>NaN</td>\n",
              "      <td>NaN</td>\n",
              "      <td>SaaS based Human Resource Management</td>\n",
              "      <td>Enterprise Applications\\nGeo - India Tech</td>\n",
              "      <td>0.000161</td>\n",
              "      <td>National</td>\n",
              "      <td>34444.0</td>\n",
              "      <td>NaN</td>\n",
              "      <td>0.100000</td>\n",
              "      <td>1</td>\n",
              "    </tr>\n",
              "    <tr>\n",
              "      <th>...</th>\n",
              "      <td>...</td>\n",
              "      <td>...</td>\n",
              "      <td>...</td>\n",
              "      <td>...</td>\n",
              "      <td>...</td>\n",
              "      <td>...</td>\n",
              "      <td>...</td>\n",
              "      <td>...</td>\n",
              "      <td>...</td>\n",
              "      <td>...</td>\n",
              "      <td>...</td>\n",
              "      <td>...</td>\n",
              "      <td>...</td>\n",
              "      <td>...</td>\n",
              "      <td>...</td>\n",
              "      <td>...</td>\n",
              "      <td>...</td>\n",
              "      <td>...</td>\n",
              "      <td>...</td>\n",
              "      <td>...</td>\n",
              "    </tr>\n",
              "    <tr>\n",
              "      <th>1500587</th>\n",
              "      <td>30274688a665c39d0b9691836e24e2fb9afce6fe</td>\n",
              "      <td>20190101</td>\n",
              "      <td>Music &amp; Audio</td>\n",
              "      <td>NaN</td>\n",
              "      <td>Crop Tech &gt; Farming as a Service &gt; Tech Enable...</td>\n",
              "      <td>Mumbai</td>\n",
              "      <td>Series A</td>\n",
              "      <td>Crop Tech</td>\n",
              "      <td>2009.0</td>\n",
              "      <td>2019-03-30</td>\n",
              "      <td>NaN</td>\n",
              "      <td>NaN</td>\n",
              "      <td>Provider of farming services to horticulture i...</td>\n",
              "      <td>Agriculture</td>\n",
              "      <td>0.000074</td>\n",
              "      <td>National</td>\n",
              "      <td>14634837.0</td>\n",
              "      <td>NaN</td>\n",
              "      <td>0.078947</td>\n",
              "      <td>1</td>\n",
              "    </tr>\n",
              "    <tr>\n",
              "      <th>1500588</th>\n",
              "      <td>30274688a665c39d0b9691836e24e2fb9afce6fe</td>\n",
              "      <td>20190101</td>\n",
              "      <td>Music &amp; Audio</td>\n",
              "      <td>NaN</td>\n",
              "      <td>Crop Tech &gt; Farming as a Service &gt; Tech Enable...</td>\n",
              "      <td>Mumbai</td>\n",
              "      <td>Series A</td>\n",
              "      <td>Crop Tech</td>\n",
              "      <td>2009.0</td>\n",
              "      <td>2019-03-30</td>\n",
              "      <td>NaN</td>\n",
              "      <td>NaN</td>\n",
              "      <td>Provider of farming services to horticulture i...</td>\n",
              "      <td>Agriculture</td>\n",
              "      <td>0.000105</td>\n",
              "      <td>National</td>\n",
              "      <td>14634837.0</td>\n",
              "      <td>NaN</td>\n",
              "      <td>0.102041</td>\n",
              "      <td>1</td>\n",
              "    </tr>\n",
              "    <tr>\n",
              "      <th>1500589</th>\n",
              "      <td>30274688a665c39d0b9691836e24e2fb9afce6fe</td>\n",
              "      <td>20190101</td>\n",
              "      <td>Music &amp; Audio</td>\n",
              "      <td>NaN</td>\n",
              "      <td>Crop Tech &gt; Farming as a Service &gt; Tech Enable...</td>\n",
              "      <td>Mumbai</td>\n",
              "      <td>Series A</td>\n",
              "      <td>Crop Tech</td>\n",
              "      <td>2009.0</td>\n",
              "      <td>2019-03-30</td>\n",
              "      <td>NaN</td>\n",
              "      <td>NaN</td>\n",
              "      <td>Provider of farming services to horticulture i...</td>\n",
              "      <td>Agriculture</td>\n",
              "      <td>0.000061</td>\n",
              "      <td>National</td>\n",
              "      <td>14634837.0</td>\n",
              "      <td>NaN</td>\n",
              "      <td>0.114286</td>\n",
              "      <td>1</td>\n",
              "    </tr>\n",
              "    <tr>\n",
              "      <th>1500590</th>\n",
              "      <td>30274688a665c39d0b9691836e24e2fb9afce6fe</td>\n",
              "      <td>20190101</td>\n",
              "      <td>Music &amp; Audio</td>\n",
              "      <td>NaN</td>\n",
              "      <td>Crop Tech &gt; Farming as a Service &gt; Tech Enable...</td>\n",
              "      <td>Mumbai</td>\n",
              "      <td>Series A</td>\n",
              "      <td>Crop Tech</td>\n",
              "      <td>2009.0</td>\n",
              "      <td>2019-03-30</td>\n",
              "      <td>NaN</td>\n",
              "      <td>NaN</td>\n",
              "      <td>Provider of farming services to horticulture i...</td>\n",
              "      <td>Agriculture</td>\n",
              "      <td>0.000365</td>\n",
              "      <td>National</td>\n",
              "      <td>14634837.0</td>\n",
              "      <td>NaN</td>\n",
              "      <td>0.077348</td>\n",
              "      <td>1</td>\n",
              "    </tr>\n",
              "    <tr>\n",
              "      <th>1501153</th>\n",
              "      <td>3a3c00cc166754955da07e23ae541601c90de143</td>\n",
              "      <td>20190101</td>\n",
              "      <td>Social</td>\n",
              "      <td>NaN</td>\n",
              "      <td>Vernacular Platforms &gt; Digital Media Platforms...</td>\n",
              "      <td>Bangalore</td>\n",
              "      <td>Acquired</td>\n",
              "      <td>Vernacular Platforms</td>\n",
              "      <td>2018.0</td>\n",
              "      <td>2019-03-06</td>\n",
              "      <td>NaN</td>\n",
              "      <td>NaN</td>\n",
              "      <td>Local news portal with a focus on Uttar Pradesh</td>\n",
              "      <td>Consumer</td>\n",
              "      <td>0.000662</td>\n",
              "      <td>National</td>\n",
              "      <td>4768280.0</td>\n",
              "      <td>NaN</td>\n",
              "      <td>0.148148</td>\n",
              "      <td>1</td>\n",
              "    </tr>\n",
              "  </tbody>\n",
              "</table>\n",
              "<p>2414 rows × 20 columns</p>\n",
              "</div>"
            ],
            "text/plain": [
              "                                             UUID  ...  funding_ind\n",
              "147      0de5c3fb8362718a71754d77061259c809266dd1  ...            1\n",
              "212      1579dd1ed49a18f4f7520a91721c6e435f7c588e  ...            1\n",
              "2324     cae68bf26bf59549fac77ec044954f939ab28c28  ...            1\n",
              "2624     9d17e60de4c6bb504d258872b6cc0bffd09de171  ...            1\n",
              "3374     7c3e0d6bec30478fb1e04249ac2e13016cf9c8db  ...            1\n",
              "...                                           ...  ...          ...\n",
              "1500587  30274688a665c39d0b9691836e24e2fb9afce6fe  ...            1\n",
              "1500588  30274688a665c39d0b9691836e24e2fb9afce6fe  ...            1\n",
              "1500589  30274688a665c39d0b9691836e24e2fb9afce6fe  ...            1\n",
              "1500590  30274688a665c39d0b9691836e24e2fb9afce6fe  ...            1\n",
              "1501153  3a3c00cc166754955da07e23ae541601c90de143  ...            1\n",
              "\n",
              "[2414 rows x 20 columns]"
            ]
          },
          "metadata": {
            "tags": []
          },
          "execution_count": 18
        }
      ]
    },
    {
      "cell_type": "code",
      "metadata": {
        "colab": {
          "base_uri": "https://localhost:8080/",
          "height": 1000
        },
        "id": "sTniPvisTIHh",
        "outputId": "2aae7a2a-db38-4cdb-a715-2be4df364646"
      },
      "source": [
        "for column in df.columns:\r\n",
        "  if df[column].nunique() > 1:\r\n",
        "    if df[column].nunique() < 100:\r\n",
        "        print(column)\r\n",
        "        plt.figure(figsize=(18,8)) \r\n",
        "        sns.countplot(x=column,data=df)\r\n",
        "        #plt.legend()\r\n",
        "        plt.show()"
      ],
      "execution_count": 19,
      "outputs": [
        {
          "output_type": "stream",
          "text": [
            "month\n"
          ],
          "name": "stdout"
        },
        {
          "output_type": "display_data",
          "data": {
            "image/png": "[encoded data removed]",
            "text/plain": [
              "<Figure size 1296x576 with 1 Axes>"
            ]
          },
          "metadata": {
            "tags": [],
            "needs_background": "light"
          }
        },
        {
          "output_type": "stream",
          "text": [
            "Application Category\n"
          ],
          "name": "stdout"
        },
        {
          "output_type": "display_data",
          "data": {
            "image/png": "[encoded data removed]",
            "text/plain": [
              "<Figure size 1296x576 with 1 Axes>"
            ]
          },
          "metadata": {
            "tags": [],
            "needs_background": "light"
          }
        },
        {
          "output_type": "stream",
          "text": [
            "City\n"
          ],
          "name": "stdout"
        },
        {
          "output_type": "display_data",
          "data": {
            "image/png": "[encoded data removed]",
            "text/plain": [
              "<Figure size 1296x576 with 1 Axes>"
            ]
          },
          "metadata": {
            "tags": [],
            "needs_background": "light"
          }
        },
        {
          "output_type": "stream",
          "text": [
            "Company Stage\n"
          ],
          "name": "stdout"
        },
        {
          "output_type": "display_data",
          "data": {
            "image/png": "[encoded data removed]",
            "text/plain": [
              "<Figure size 1296x576 with 1 Axes>"
            ]
          },
          "metadata": {
            "tags": [],
            "needs_background": "light"
          }
        },
        {
          "output_type": "stream",
          "text": [
            "Founded Year\n"
          ],
          "name": "stdout"
        },
        {
          "output_type": "display_data",
          "data": {
            "image/png": "[encoded data removed]",
            "text/plain": [
              "<Figure size 1296x576 with 1 Axes>"
            ]
          },
          "metadata": {
            "tags": [],
            "needs_background": "light"
          }
        },
        {
          "output_type": "stream",
          "text": [
            "funding_ind\n"
          ],
          "name": "stdout"
        },
        {
          "output_type": "display_data",
          "data": {
            "image/png": "[encoded data removed]",
            "text/plain": [
              "<Figure size 1296x576 with 1 Axes>"
            ]
          },
          "metadata": {
            "tags": [],
            "needs_background": "light"
          }
        }
      ]
    },
    {
      "cell_type": "code",
      "metadata": {
        "id": "MV2CntG7m5WN"
      },
      "source": [
        "df"
      ],
      "execution_count": null,
      "outputs": []
    }
  ]
}